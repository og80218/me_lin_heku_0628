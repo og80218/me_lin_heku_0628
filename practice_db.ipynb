{
 "cells": [
  {
   "cell_type": "code",
   "execution_count": 1,
   "metadata": {},
   "outputs": [],
   "source": [
    "\"\"\"\n",
    "\n",
    "啟用伺服器基本樣板\n",
    "\n",
    "\"\"\"\n",
    "\n",
    "# 引用Web Server套件\n",
    "from flask import Flask, request, abort\n",
    "\n",
    "# 從linebot 套件包裡引用 LineBotApi 與 WebhookHandler 類別\n",
    "from linebot import (\n",
    "    LineBotApi, WebhookHandler\n",
    ")\n",
    "\n",
    "# 引用無效簽章錯誤\n",
    "from linebot.exceptions import (\n",
    "    InvalidSignatureError\n",
    ")\n",
    "\n",
    "# 載入json處理套件\n",
    "import json\n",
    "\n",
    "\n",
    "# 設定Server啟用細節\n",
    "app = Flask(__name__)\n",
    "\n",
    "# 生成實體物件   #改自己的\n",
    "line_bot_api = LineBotApi(\"\")\n",
    "handler = WebhookHandler(\"\")\n",
    "\n",
    "# 啟動server對外接口，使Line能丟消息進來\n",
    "@app.route(\"/\", methods=['POST'])\n",
    "def callback():\n",
    "    # get X-Line-Signature header value\n",
    "    signature = request.headers['X-Line-Signature']\n",
    "\n",
    "    # get request body as text\n",
    "    body = request.get_data(as_text=True)\n",
    "    app.logger.info(\"Request body: \" + body)\n",
    "\n",
    "    # handle webhook body\n",
    "    try:\n",
    "        handler.handle(body, signature)\n",
    "    except InvalidSignatureError:\n",
    "        abort(400)\n",
    "\n",
    "    return 'OK'\n"
   ]
  },
  {
   "cell_type": "code",
   "execution_count": 2,
   "metadata": {},
   "outputs": [],
   "source": [
    "\"\"\"\n",
    "引用套件\n",
    "連接資料庫\n",
    "\n",
    "\"\"\"\n",
    "import peewee\n",
    "\n",
    "\n",
    "#改自己的\n",
    "db = peewee.PostgresqlDatabase('ddmq64pcoa29to', \n",
    "                        user='mfpcpttczbibhf', \n",
    "                        password='bee6a9b9436c3a55e6ff290647370141cbbfd3b500b256186140f7a605b8420d',\n",
    "                        host='ec2-52-202-146-43.compute-1.amazonaws.com', \n",
    "                        port=5432)\n",
    "\n",
    "# 定義LineUserProfile 資料表\n",
    "class LineUserProfile(peewee.Model):\n",
    "    # 定義欄位\n",
    "    displayName = peewee.CharField()\n",
    "    pictureUrl = peewee.CharField()\n",
    "    statusMessage = peewee.CharField()\n",
    "    userId = peewee.CharField()\n",
    "    \n",
    "    # 指定使用的資料庫\n",
    "    class Meta:\n",
    "        database = db\n",
    "\n",
    "# 創造資料庫\n",
    "db.create_tables([LineUserProfile])\n"
   ]
  },
  {
   "cell_type": "code",
   "execution_count": 7,
   "metadata": {},
   "outputs": [],
   "source": [
    "'''\n",
    "\n",
    "撰寫用戶關注時，我們要處理的商業邏輯\n",
    "\n",
    "1. 取得用戶個資，並存回伺服器\n",
    "2. 把先前製作好的自定義菜單，與用戶做綁定\n",
    "3. 回應用戶，歡迎用的文字消息與圖片消息\n",
    "\n",
    "'''\n",
    "\n",
    "\n",
    "# 載入Follow事件\n",
    "from linebot.models.events import (\n",
    "    FollowEvent\n",
    ")\n",
    "\n",
    "# 載入requests套件\n",
    "import requests\n",
    "\n",
    "\n",
    "# 告知handler，如果收到FollowEvent，則做下面的方法處理\n",
    "@handler.add(FollowEvent)\n",
    "def reply_text_and_get_user_profile(event):\n",
    "    \n",
    "    # 取出消息內User的資料\n",
    "    user_profile = line_bot_api.get_profile(event.source.user_id)\n",
    "    user_profile_dict = vars(user_profile)\n",
    "    print(user_profile_dict,\n",
    "        user_profile_dict.get(\"display_name\"),\n",
    "        user_profile_dict.get(\"picture_url\"),\n",
    "        user_profile_dict.get(\"status_message\"),\n",
    "        user_profile_dict.get(\"user_id\")\n",
    "    )\n",
    "    new_user = LineUserProfile.create(\n",
    "        displayName = user_profile_dict.get(\"display_name\"),\n",
    "        pictureUrl = user_profile_dict.get(\"picture_url\") if user_profile_dict.get(\"picture_url\") is not None else \"\",\n",
    "        statusMessage = user_profile_dict.get(\"status_message\") if user_profile_dict.get(\"status_message\") is not None else \"\",\n",
    "        userId = user_profile_dict.get(\"user_id\")\n",
    "    )\n",
    "    "
   ]
  },
  {
   "cell_type": "code",
   "execution_count": null,
   "metadata": {},
   "outputs": [
    {
     "name": "stdout",
     "output_type": "stream",
     "text": [
      " * Serving Flask app \"__main__\" (lazy loading)\n",
      " * Environment: production\n",
      "   WARNING: This is a development server. Do not use it in a production deployment.\n",
      "   Use a production WSGI server instead.\n",
      " * Debug mode: off\n"
     ]
    },
    {
     "name": "stderr",
     "output_type": "stream",
     "text": [
      " * Running on http://0.0.0.0:5000/ (Press CTRL+C to quit)\n",
      "127.0.0.1 - - [08/Jun/2020 19:38:31] \"\u001b[37mPOST / HTTP/1.1\u001b[0m\" 200 -\n"
     ]
    },
    {
     "name": "stdout",
     "output_type": "stream",
     "text": [
      "{'display_name': '李建德', 'user_id': 'Uf6a87bc14f8dacf9d85fdeb12227e9b5', 'picture_url': 'https://profile.line-scdn.net/0hCnXzgNoBHEFlAzSYVktjFllGEiwSLRoJHW1WcxNUR3RNMlIXDGdRcEQFQyMcO1oTDDBUdRMCF3MY', 'status_message': None} 李建德 https://profile.line-scdn.net/0hCnXzgNoBHEFlAzSYVktjFllGEiwSLRoJHW1WcxNUR3RNMlIXDGdRcEQFQyMcO1oTDDBUdRMCF3MY None Uf6a87bc14f8dacf9d85fdeb12227e9b5\n"
     ]
    },
    {
     "name": "stderr",
     "output_type": "stream",
     "text": [
      "127.0.0.1 - - [08/Jun/2020 19:38:36] \"\u001b[37mPOST / HTTP/1.1\u001b[0m\" 200 -\n",
      "127.0.0.1 - - [08/Jun/2020 19:39:09] \"\u001b[37mPOST / HTTP/1.1\u001b[0m\" 200 -\n"
     ]
    },
    {
     "name": "stdout",
     "output_type": "stream",
     "text": [
      "{'display_name': '昱融', 'user_id': 'Ua71c676ffbaa8ac2be0396aac213116e', 'picture_url': None, 'status_message': None} 昱融 None None Ua71c676ffbaa8ac2be0396aac213116e\n"
     ]
    },
    {
     "name": "stderr",
     "output_type": "stream",
     "text": [
      "127.0.0.1 - - [08/Jun/2020 19:39:12] \"\u001b[37mPOST / HTTP/1.1\u001b[0m\" 200 -\n",
      "127.0.0.1 - - [08/Jun/2020 19:39:13] \"\u001b[37mPOST / HTTP/1.1\u001b[0m\" 200 -\n"
     ]
    },
    {
     "name": "stdout",
     "output_type": "stream",
     "text": [
      "{'display_name': 'FERN', 'user_id': 'U4c905416f472365759dae1dd18ea9f89', 'picture_url': 'https://profile.line-scdn.net/0hdK_GZ-L2O2RiPhEwlT1EM157NQkVED0sGlx8VRA5Y1QYXXw1DQ11UkNqbQMaDnpgDFwkV048ZAZH', 'status_message': '🌱'} FERN https://profile.line-scdn.net/0hdK_GZ-L2O2RiPhEwlT1EM157NQkVED0sGlx8VRA5Y1QYXXw1DQ11UkNqbQMaDnpgDFwkV048ZAZH 🌱 U4c905416f472365759dae1dd18ea9f89\n"
     ]
    },
    {
     "name": "stderr",
     "output_type": "stream",
     "text": [
      "127.0.0.1 - - [08/Jun/2020 19:39:15] \"\u001b[37mPOST / HTTP/1.1\u001b[0m\" 200 -\n",
      "127.0.0.1 - - [08/Jun/2020 19:39:16] \"\u001b[37mPOST / HTTP/1.1\u001b[0m\" 200 -\n",
      "127.0.0.1 - - [08/Jun/2020 19:39:17] \"\u001b[37mPOST / HTTP/1.1\u001b[0m\" 200 -\n",
      "127.0.0.1 - - [08/Jun/2020 19:39:18] \"\u001b[37mPOST / HTTP/1.1\u001b[0m\" 200 -\n"
     ]
    },
    {
     "name": "stdout",
     "output_type": "stream",
     "text": [
      "{'display_name': '朱祐震', 'user_id': 'U8c27681e5449cdf3796cf579d76cf132', 'picture_url': 'https://profile.line-scdn.net/0hz-M5Cy2aJQJwTAkOBhdaVUwJK28HYiNKCH49M1RPejJVezVTGS5rZQIcLzEPKWoHTi0-YgdOLmZe', 'status_message': 'It is always morning somewhere in the world.'} 朱祐震 https://profile.line-scdn.net/0hz-M5Cy2aJQJwTAkOBhdaVUwJK28HYiNKCH49M1RPejJVezVTGS5rZQIcLzEPKWoHTi0-YgdOLmZe It is always morning somewhere in the world. U8c27681e5449cdf3796cf579d76cf132\n"
     ]
    },
    {
     "name": "stderr",
     "output_type": "stream",
     "text": [
      "127.0.0.1 - - [08/Jun/2020 19:39:19] \"\u001b[37mPOST / HTTP/1.1\u001b[0m\" 200 -\n",
      "127.0.0.1 - - [08/Jun/2020 19:39:19] \"\u001b[37mPOST / HTTP/1.1\u001b[0m\" 200 -\n",
      "127.0.0.1 - - [08/Jun/2020 19:39:21] \"\u001b[37mPOST / HTTP/1.1\u001b[0m\" 200 -\n",
      "127.0.0.1 - - [08/Jun/2020 19:39:21] \"\u001b[37mPOST / HTTP/1.1\u001b[0m\" 200 -\n",
      "127.0.0.1 - - [08/Jun/2020 19:39:24] \"\u001b[37mPOST / HTTP/1.1\u001b[0m\" 200 -\n"
     ]
    },
    {
     "name": "stdout",
     "output_type": "stream",
     "text": [
      "{'display_name': '薰惠🌸', 'user_id': 'U39e8e24bb07fa3fb77138e6f2662d4ce', 'picture_url': 'https://profile.line-scdn.net/0hICzY-xm5FmxHID5xSHJpO3tlGAEwDhAkP0NdCTJzHAxtFVFoKxEOAmRwHFtiFVM_ckZdWTUgQF0-', 'status_message': None} 薰惠🌸 https://profile.line-scdn.net/0hICzY-xm5FmxHID5xSHJpO3tlGAEwDhAkP0NdCTJzHAxtFVFoKxEOAmRwHFtiFVM_ckZdWTUgQF0- None U39e8e24bb07fa3fb77138e6f2662d4ce\n"
     ]
    },
    {
     "name": "stderr",
     "output_type": "stream",
     "text": [
      "127.0.0.1 - - [08/Jun/2020 19:39:25] \"\u001b[37mPOST / HTTP/1.1\u001b[0m\" 200 -\n",
      "127.0.0.1 - - [08/Jun/2020 19:39:27] \"\u001b[37mPOST / HTTP/1.1\u001b[0m\" 200 -\n",
      "127.0.0.1 - - [08/Jun/2020 19:39:28] \"\u001b[37mPOST / HTTP/1.1\u001b[0m\" 200 -\n"
     ]
    }
   ],
   "source": [
    "'''\n",
    "\n",
    "執行此句，啟動Server，觀察後，按左上方塊，停用Server\n",
    "\n",
    "'''\n",
    "\n",
    "if __name__ == \"__main__\":\n",
    "    app.run(host='0.0.0.0')"
   ]
  },
  {
   "cell_type": "code",
   "execution_count": null,
   "metadata": {},
   "outputs": [],
   "source": []
  }
 ],
 "metadata": {
  "kernelspec": {
   "display_name": "Python 3",
   "language": "python",
   "name": "python3"
  },
  "language_info": {
   "codemirror_mode": {
    "name": "ipython",
    "version": 3
   },
   "file_extension": ".py",
   "mimetype": "text/x-python",
   "name": "python",
   "nbconvert_exporter": "python",
   "pygments_lexer": "ipython3",
   "version": "3.7.6"
  }
 },
 "nbformat": 4,
 "nbformat_minor": 2
}
